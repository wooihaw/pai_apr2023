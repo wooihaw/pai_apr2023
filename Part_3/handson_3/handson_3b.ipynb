{
 "cells": [
  {
   "cell_type": "markdown",
   "id": "20551543",
   "metadata": {},
   "source": [
    "## Hands-on 3B\n",
    "\n",
    "#### Build a Decision Tree classifier to predict the survivality of the Titanic passengers based on the data pre-processed in Hands-on 2C."
   ]
  },
  {
   "cell_type": "code",
   "execution_count": 1,
   "id": "4f20619f",
   "metadata": {},
   "outputs": [],
   "source": [
    "# Initialization\n",
    "%matplotlib inline\n",
    "from warnings import filterwarnings\n",
    "filterwarnings('ignore')"
   ]
  },
  {
   "cell_type": "code",
   "execution_count": 2,
   "id": "a589516f",
   "metadata": {},
   "outputs": [],
   "source": [
    "# Import libraries\n",
    "from pandas import read_csv\n",
    "from sklearn.model_selection import train_test_split as split, KFold, GridSearchCV\n",
    "from sklearn.tree import DecisionTreeClassifier"
   ]
  },
  {
   "cell_type": "markdown",
   "id": "29fc4ef4",
   "metadata": {},
   "source": [
    "To do: \n",
    "- Store the features as variable X and targets as variable y\n",
    "- Split the features and targets into training and testing sets"
   ]
  },
  {
   "cell_type": "code",
   "execution_count": 4,
   "id": "ff8c33fb",
   "metadata": {},
   "outputs": [],
   "source": [
    "df = read_csv(\"titanic_processed.csv\")\n",
    "y = df[\"Survived\"].values\n",
    "del df[\"Survived\"]\n",
    "X = df.values\n",
    "X_train, X_test, y_train, y_test = split(X, y, random_state=42)"
   ]
  },
  {
   "cell_type": "markdown",
   "id": "a3ffac52",
   "metadata": {},
   "source": [
    "To do:\n",
    "- Evaluate the performance of decision tree classifier on this dataset (using the default hyperparameter values)"
   ]
  },
  {
   "cell_type": "code",
   "execution_count": 5,
   "id": "76c5a1ce",
   "metadata": {},
   "outputs": [
    {
     "name": "stdout",
     "output_type": "stream",
     "text": [
      "Accuracy without tuning: 74.89%\n"
     ]
    }
   ],
   "source": [
    "model = DecisionTreeClassifier(random_state=42)\n",
    "model.fit(X_train, y_train)\n",
    "print(f'Accuracy without tuning: {model.score(X_test, y_test):.2%}')"
   ]
  },
  {
   "cell_type": "markdown",
   "id": "1b29ef43",
   "metadata": {},
   "source": [
    "To do: \n",
    "- Use grid search to fine tune the following hyperparameters\n",
    "    * criterion ('gini' or 'entropy')\n",
    "    * max_leaf_nodes (from 2 to 20)"
   ]
  },
  {
   "cell_type": "code",
   "execution_count": 8,
   "id": "94b37bb3",
   "metadata": {},
   "outputs": [
    {
     "name": "stdout",
     "output_type": "stream",
     "text": [
      "Fitting 5 folds for each of 760 candidates, totalling 3800 fits\n",
      "{'criterion': 'gini', 'max_depth': 3, 'max_leaf_nodes': 7}\n"
     ]
    }
   ],
   "source": [
    "kf = KFold(n_splits=5, shuffle=True, random_state=42)\n",
    "params = dict(criterion=['gini', 'entropy'], max_leaf_nodes=range(2, 21))\n",
    "params[\"max_depth\"] = range(1, 21)\n",
    "grid = GridSearchCV(model, params, cv=kf, n_jobs=-1, verbose=2)\n",
    "grid.fit(X_train, y_train)\n",
    "print(grid.best_params_)"
   ]
  },
  {
   "cell_type": "markdown",
   "id": "5efde92b",
   "metadata": {},
   "source": [
    "To do:\n",
    "- Train a decision tree classifier with the best set of hyperparameter values\n",
    "- Evaluate the performance of the resulting classifier"
   ]
  },
  {
   "cell_type": "code",
   "execution_count": 9,
   "id": "6a361678",
   "metadata": {},
   "outputs": [
    {
     "name": "stdout",
     "output_type": "stream",
     "text": [
      "Accuracy with tuning: 80.27%\n"
     ]
    }
   ],
   "source": [
    "model.set_params(**grid.best_params_).fit(X_train, y_train)\n",
    "print(f'Accuracy with tuning: {model.score(X_test, y_test):.2%}')"
   ]
  },
  {
   "cell_type": "code",
   "execution_count": 11,
   "id": "31c3cfb3",
   "metadata": {
    "scrolled": false
   },
   "outputs": [
    {
     "data": {
      "text/html": [
       "<div>\n",
       "<style scoped>\n",
       "    .dataframe tbody tr th:only-of-type {\n",
       "        vertical-align: middle;\n",
       "    }\n",
       "\n",
       "    .dataframe tbody tr th {\n",
       "        vertical-align: top;\n",
       "    }\n",
       "\n",
       "    .dataframe thead th {\n",
       "        text-align: right;\n",
       "    }\n",
       "</style>\n",
       "<table border=\"1\" class=\"dataframe\">\n",
       "  <thead>\n",
       "    <tr style=\"text-align: right;\">\n",
       "      <th></th>\n",
       "      <th>Pclass</th>\n",
       "      <th>Age</th>\n",
       "      <th>SibSp</th>\n",
       "      <th>Parch</th>\n",
       "      <th>Fare</th>\n",
       "      <th>Gender_female</th>\n",
       "      <th>Gender_male</th>\n",
       "    </tr>\n",
       "  </thead>\n",
       "  <tbody>\n",
       "    <tr>\n",
       "      <th>count</th>\n",
       "      <td>891.000000</td>\n",
       "      <td>891.000000</td>\n",
       "      <td>891.000000</td>\n",
       "      <td>891.000000</td>\n",
       "      <td>891.000000</td>\n",
       "      <td>891.000000</td>\n",
       "      <td>891.000000</td>\n",
       "    </tr>\n",
       "    <tr>\n",
       "      <th>mean</th>\n",
       "      <td>2.308642</td>\n",
       "      <td>29.361582</td>\n",
       "      <td>0.523008</td>\n",
       "      <td>0.381594</td>\n",
       "      <td>32.204208</td>\n",
       "      <td>0.352413</td>\n",
       "      <td>0.647587</td>\n",
       "    </tr>\n",
       "    <tr>\n",
       "      <th>std</th>\n",
       "      <td>0.836071</td>\n",
       "      <td>13.019697</td>\n",
       "      <td>1.102743</td>\n",
       "      <td>0.806057</td>\n",
       "      <td>49.693429</td>\n",
       "      <td>0.477990</td>\n",
       "      <td>0.477990</td>\n",
       "    </tr>\n",
       "    <tr>\n",
       "      <th>min</th>\n",
       "      <td>1.000000</td>\n",
       "      <td>0.420000</td>\n",
       "      <td>0.000000</td>\n",
       "      <td>0.000000</td>\n",
       "      <td>0.000000</td>\n",
       "      <td>0.000000</td>\n",
       "      <td>0.000000</td>\n",
       "    </tr>\n",
       "    <tr>\n",
       "      <th>25%</th>\n",
       "      <td>2.000000</td>\n",
       "      <td>22.000000</td>\n",
       "      <td>0.000000</td>\n",
       "      <td>0.000000</td>\n",
       "      <td>7.910400</td>\n",
       "      <td>0.000000</td>\n",
       "      <td>0.000000</td>\n",
       "    </tr>\n",
       "    <tr>\n",
       "      <th>50%</th>\n",
       "      <td>3.000000</td>\n",
       "      <td>28.000000</td>\n",
       "      <td>0.000000</td>\n",
       "      <td>0.000000</td>\n",
       "      <td>14.454200</td>\n",
       "      <td>0.000000</td>\n",
       "      <td>1.000000</td>\n",
       "    </tr>\n",
       "    <tr>\n",
       "      <th>75%</th>\n",
       "      <td>3.000000</td>\n",
       "      <td>35.000000</td>\n",
       "      <td>1.000000</td>\n",
       "      <td>0.000000</td>\n",
       "      <td>31.000000</td>\n",
       "      <td>1.000000</td>\n",
       "      <td>1.000000</td>\n",
       "    </tr>\n",
       "    <tr>\n",
       "      <th>max</th>\n",
       "      <td>3.000000</td>\n",
       "      <td>80.000000</td>\n",
       "      <td>8.000000</td>\n",
       "      <td>6.000000</td>\n",
       "      <td>512.329200</td>\n",
       "      <td>1.000000</td>\n",
       "      <td>1.000000</td>\n",
       "    </tr>\n",
       "  </tbody>\n",
       "</table>\n",
       "</div>"
      ],
      "text/plain": [
       "           Pclass         Age       SibSp       Parch        Fare  \\\n",
       "count  891.000000  891.000000  891.000000  891.000000  891.000000   \n",
       "mean     2.308642   29.361582    0.523008    0.381594   32.204208   \n",
       "std      0.836071   13.019697    1.102743    0.806057   49.693429   \n",
       "min      1.000000    0.420000    0.000000    0.000000    0.000000   \n",
       "25%      2.000000   22.000000    0.000000    0.000000    7.910400   \n",
       "50%      3.000000   28.000000    0.000000    0.000000   14.454200   \n",
       "75%      3.000000   35.000000    1.000000    0.000000   31.000000   \n",
       "max      3.000000   80.000000    8.000000    6.000000  512.329200   \n",
       "\n",
       "       Gender_female  Gender_male  \n",
       "count     891.000000   891.000000  \n",
       "mean        0.352413     0.647587  \n",
       "std         0.477990     0.477990  \n",
       "min         0.000000     0.000000  \n",
       "25%         0.000000     0.000000  \n",
       "50%         0.000000     1.000000  \n",
       "75%         1.000000     1.000000  \n",
       "max         1.000000     1.000000  "
      ]
     },
     "execution_count": 11,
     "metadata": {},
     "output_type": "execute_result"
    }
   ],
   "source": [
    "df.describe()"
   ]
  },
  {
   "cell_type": "code",
   "execution_count": 19,
   "id": "c8fbdf1b",
   "metadata": {},
   "outputs": [
    {
     "name": "stdout",
     "output_type": "stream",
     "text": [
      "[1 0]\n"
     ]
    }
   ],
   "source": [
    "print(model.predict([[1, 23, 0, 0, 500, 1, 0], [3, 25, 0, 0, 10, 0, 1]]))"
   ]
  },
  {
   "cell_type": "code",
   "execution_count": null,
   "id": "0895d481",
   "metadata": {},
   "outputs": [],
   "source": []
  }
 ],
 "metadata": {
  "kernelspec": {
   "display_name": "Python 3 (ipykernel)",
   "language": "python",
   "name": "python3"
  },
  "language_info": {
   "codemirror_mode": {
    "name": "ipython",
    "version": 3
   },
   "file_extension": ".py",
   "mimetype": "text/x-python",
   "name": "python",
   "nbconvert_exporter": "python",
   "pygments_lexer": "ipython3",
   "version": "3.9.15"
  }
 },
 "nbformat": 4,
 "nbformat_minor": 5
}
